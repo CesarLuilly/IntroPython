{
 "cells": [
  {
   "cell_type": "markdown",
   "metadata": {},
   "source": [
    "## Course Python By InnovacionVirtual LaunchX \n",
    "### Module 9: Funciones\n",
    "\n",
    "**Extra info about python**\n",
    "- Version Python: Python 3.10.2\n",
    "- Python Kernel: 3.9.10 64-bit\n",
    "- Execute: Position Cursor at code VS, after it is pressed Ctrl + Enter\n",
    "\n",
    "**Author: Cesar Luilly Garcia Aguazul**\n",
    "\n",
    "**Co-Author : Fernanda Ochoa**\n",
    "\n",
    "**Date: 17:02/2022**"
   ]
  },
  {
   "cell_type": "code",
   "execution_count": 4,
   "metadata": {},
   "outputs": [
    {
     "name": "stdout",
     "output_type": "stream",
     "text": [
      "payload, propellant, structure\n"
     ]
    }
   ],
   "source": [
    "##                      ##Practice 1.\n",
    "# Function without arguments.\n",
    "\n",
    "# Defino mi función\n",
    "def rocket_parts():\n",
    "    print('payload, propellant, structure')\n",
    "\n",
    "# Llamo a mi función\n",
    "rocket_parts()"
   ]
  },
  {
   "cell_type": "code",
   "execution_count": 5,
   "metadata": {},
   "outputs": [
    {
     "name": "stdout",
     "output_type": "stream",
     "text": [
      "payload, propellant, structure\n"
     ]
    }
   ],
   "source": [
    "##                      ##Practice 2.\n",
    "# Asignacion de resultado a una variable.\n",
    "output = rocket_parts()\n"
   ]
  },
  {
   "cell_type": "code",
   "execution_count": 6,
   "metadata": {},
   "outputs": [
    {
     "data": {
      "text/plain": [
       "True"
      ]
     },
     "execution_count": 6,
     "metadata": {},
     "output_type": "execute_result"
    }
   ],
   "source": [
    "##                      ##Practice 3.\n",
    "# Asignacion de resultado a una variable.\n",
    "# Verify type\n",
    "output is None\n",
    "\n",
    "# Puede parecer sorprendente que el valor de la variable output sea None. \n",
    "# Esto se debe a que la función rocket_parts() no ha devuelto explícitamente \n",
    "# un valor. En Python, si una función no devuelve explícitamente un valor, \n",
    "# devuelve implícitamente None. Actualizar la función para devolver la cadena en \n",
    "# lugar de imprimirla hace que la variable output tenga un valor distinto:"
   ]
  },
  {
   "cell_type": "code",
   "execution_count": 7,
   "metadata": {},
   "outputs": [
    {
     "data": {
      "text/plain": [
       "'payload, propellant, structure'"
      ]
     },
     "execution_count": 7,
     "metadata": {},
     "output_type": "execute_result"
    }
   ],
   "source": [
    "##                      ##Practice 4.\n",
    "# Return data of the function.\n",
    "def rocket_parts():\n",
    "    return 'payload, propellant, structure'\n",
    "\n",
    "output = rocket_parts()\n",
    "\n",
    "output\n"
   ]
  },
  {
   "cell_type": "code",
   "execution_count": 9,
   "metadata": {},
   "outputs": [
    {
     "data": {
      "text/plain": [
       "True"
      ]
     },
     "execution_count": 9,
     "metadata": {},
     "output_type": "execute_result"
    }
   ],
   "source": [
    "##                      ##Practice 5.\n",
    "# Argumentos opcionales y requeridos.\n",
    "any([True, False, False])\n"
   ]
  },
  {
   "cell_type": "code",
   "execution_count": 10,
   "metadata": {},
   "outputs": [
    {
     "data": {
      "text/plain": [
       "False"
      ]
     },
     "execution_count": 10,
     "metadata": {},
     "output_type": "execute_result"
    }
   ],
   "source": [
    "##                      ##Practice 6.\n",
    "# Argumentos opcionales y requeridos.\n",
    "any([False, False, False])"
   ]
  },
  {
   "cell_type": "code",
   "execution_count": 11,
   "metadata": {},
   "outputs": [
    {
     "ename": "TypeError",
     "evalue": "any() takes exactly one argument (0 given)",
     "output_type": "error",
     "traceback": [
      "\u001b[1;31m---------------------------------------------------------------------------\u001b[0m",
      "\u001b[1;31mTypeError\u001b[0m                                 Traceback (most recent call last)",
      "\u001b[1;32mc:\\Users\\Towa\\Documents\\InnovacionVirtual\\IntroPython\\Modulo 9\\Modulo9Funciones.ipynb Cell 8'\u001b[0m in \u001b[0;36m<module>\u001b[1;34m\u001b[0m\n\u001b[0;32m      <a href='vscode-notebook-cell:/c%3A/Users/Towa/Documents/InnovacionVirtual/IntroPython/Modulo%209/Modulo9Funciones.ipynb#ch0000007?line=0'>1</a>\u001b[0m \u001b[39m##                      ##Practice 6.\u001b[39;00m\n\u001b[0;32m      <a href='vscode-notebook-cell:/c%3A/Users/Towa/Documents/InnovacionVirtual/IntroPython/Modulo%209/Modulo9Funciones.ipynb#ch0000007?line=1'>2</a>\u001b[0m \u001b[39m# Argumentos opcionales y requeridos.\u001b[39;00m\n\u001b[0;32m      <a href='vscode-notebook-cell:/c%3A/Users/Towa/Documents/InnovacionVirtual/IntroPython/Modulo%209/Modulo9Funciones.ipynb#ch0000007?line=2'>3</a>\u001b[0m \u001b[39m# Llamar la funcion sin argumentos.\u001b[39;00m\n\u001b[1;32m----> <a href='vscode-notebook-cell:/c%3A/Users/Towa/Documents/InnovacionVirtual/IntroPython/Modulo%209/Modulo9Funciones.ipynb#ch0000007?line=3'>4</a>\u001b[0m \u001b[39many\u001b[39;49m()\n",
      "\u001b[1;31mTypeError\u001b[0m: any() takes exactly one argument (0 given)"
     ]
    }
   ],
   "source": [
    "##                      ##Practice 6.\n",
    "# Argumentos opcionales y requeridos.\n",
    "# Llamar la funcion sin argumentos, generara error ya que los argumentos son\n",
    "# requeridos.\n",
    "any()"
   ]
  },
  {
   "cell_type": "code",
   "execution_count": 13,
   "metadata": {},
   "outputs": [
    {
     "data": {
      "text/plain": [
       "'15'"
      ]
     },
     "execution_count": 13,
     "metadata": {},
     "output_type": "execute_result"
    }
   ],
   "source": [
    "##                      ##Practice 7.\n",
    "# Ejemplo de funciones con argumentos opcionales.\n",
    "str()\n",
    "# Devuelve -> ''\n",
    "str(15)\n",
    "# Devuelve -> '15'"
   ]
  },
  {
   "cell_type": "code",
   "execution_count": 14,
   "metadata": {},
   "outputs": [
    {
     "ename": "TypeError",
     "evalue": "distance_from_earth() missing 1 required positional argument: 'destination'",
     "output_type": "error",
     "traceback": [
      "\u001b[1;31m---------------------------------------------------------------------------\u001b[0m",
      "\u001b[1;31mTypeError\u001b[0m                                 Traceback (most recent call last)",
      "\u001b[1;32mc:\\Users\\Towa\\Documents\\InnovacionVirtual\\IntroPython\\Modulo 9\\Modulo9Funciones.ipynb Cell 10'\u001b[0m in \u001b[0;36m<module>\u001b[1;34m\u001b[0m\n\u001b[0;32m      <a href='vscode-notebook-cell:/c%3A/Users/Towa/Documents/InnovacionVirtual/IntroPython/Modulo%209/Modulo9Funciones.ipynb#ch0000009?line=5'>6</a>\u001b[0m     \u001b[39melse\u001b[39;00m:\n\u001b[0;32m      <a href='vscode-notebook-cell:/c%3A/Users/Towa/Documents/InnovacionVirtual/IntroPython/Modulo%209/Modulo9Funciones.ipynb#ch0000009?line=6'>7</a>\u001b[0m         \u001b[39mreturn\u001b[39;00m \u001b[39m'\u001b[39m\u001b[39mUnable to compute to that destination\u001b[39m\u001b[39m'\u001b[39m\n\u001b[1;32m----> <a href='vscode-notebook-cell:/c%3A/Users/Towa/Documents/InnovacionVirtual/IntroPython/Modulo%209/Modulo9Funciones.ipynb#ch0000009?line=8'>9</a>\u001b[0m distance_from_earth()\n",
      "\u001b[1;31mTypeError\u001b[0m: distance_from_earth() missing 1 required positional argument: 'destination'"
     ]
    }
   ],
   "source": [
    "##                      ##Practice 8.\n",
    "# Uso de argumentos en una funcion y llamada a la funcion.\n",
    "def distance_from_earth(destination):\n",
    "    if destination == 'Moon':\n",
    "        return '238,855'\n",
    "    else:\n",
    "        return 'Unable to compute to that destination'\n",
    "\n",
    "# Generar un erro ya que el argumento es requerido.\n",
    "distance_from_earth()"
   ]
  },
  {
   "cell_type": "code",
   "execution_count": 15,
   "metadata": {},
   "outputs": [
    {
     "data": {
      "text/plain": [
       "133"
      ]
     },
     "execution_count": 15,
     "metadata": {},
     "output_type": "execute_result"
    }
   ],
   "source": [
    "##                      ##Practice 9.\n",
    "# Pasar funciones como argumentos.\n",
    "\n",
    "def days_to_complete(distance, speed):\n",
    "    hours = distance/speed\n",
    "    return hours/24\n",
    "\n",
    "round(days_to_complete(238855, 75))"
   ]
  },
  {
   "cell_type": "code",
   "execution_count": 16,
   "metadata": {},
   "outputs": [
    {
     "data": {
      "text/plain": [
       "'Arrival: Saturday 07:40'"
      ]
     },
     "execution_count": 16,
     "metadata": {},
     "output_type": "execute_result"
    }
   ],
   "source": [
    "##                      ##Practice 10.\n",
    "# Uso de argumentos de palabra clave en Python.\n",
    "\n",
    "from datetime import timedelta, datetime\n",
    "\n",
    "def arrival_time(hours=51):\n",
    "    now = datetime.now()\n",
    "    arrival = now + timedelta(hours=hours)\n",
    "    return arrival.strftime('Arrival: %A %H:%M')\n",
    "\n",
    "arrival_time()"
   ]
  },
  {
   "cell_type": "code",
   "execution_count": 17,
   "metadata": {},
   "outputs": [
    {
     "data": {
      "text/plain": [
       "'Arrival: Thursday 04:40'"
      ]
     },
     "execution_count": 17,
     "metadata": {},
     "output_type": "execute_result"
    }
   ],
   "source": [
    "##                      ##Practice 11.\n",
    "# Uso de argumentos de palabra clave en Python.\n",
    "\n",
    "# Aunque la función define un argumento de palabra clave, no permite pasar \n",
    "# uno cuando se llama a una función. En este caso, la variable hours tiene \n",
    "# como valor predeterminado 51. Para comprobar que la fecha actual es correcta, \n",
    "# usamos 0 como valor para hours:\n",
    "arrival_time(hours=0)"
   ]
  },
  {
   "cell_type": "code",
   "execution_count": 18,
   "metadata": {},
   "outputs": [
    {
     "ename": "TypeError",
     "evalue": "arrival_time() missing 1 required positional argument: 'destination'",
     "output_type": "error",
     "traceback": [
      "\u001b[1;31m---------------------------------------------------------------------------\u001b[0m",
      "\u001b[1;31mTypeError\u001b[0m                                 Traceback (most recent call last)",
      "\u001b[1;32mc:\\Users\\Towa\\Documents\\InnovacionVirtual\\IntroPython\\Modulo 9\\Modulo9Funciones.ipynb Cell 14'\u001b[0m in \u001b[0;36m<module>\u001b[1;34m\u001b[0m\n\u001b[0;32m     <a href='vscode-notebook-cell:/c%3A/Users/Towa/Documents/InnovacionVirtual/IntroPython/Modulo%209/Modulo9Funciones.ipynb#ch0000013?line=10'>11</a>\u001b[0m     arrival \u001b[39m=\u001b[39m now \u001b[39m+\u001b[39m timedelta(hours\u001b[39m=\u001b[39mhours)\n\u001b[0;32m     <a href='vscode-notebook-cell:/c%3A/Users/Towa/Documents/InnovacionVirtual/IntroPython/Modulo%209/Modulo9Funciones.ipynb#ch0000013?line=11'>12</a>\u001b[0m     \u001b[39mreturn\u001b[39;00m arrival\u001b[39m.\u001b[39mstrftime(\u001b[39mf\u001b[39m\u001b[39m'\u001b[39m\u001b[39m{\u001b[39;00mdestination\u001b[39m}\u001b[39;00m\u001b[39m Arrival: %A %H:%M\u001b[39m\u001b[39m'\u001b[39m)\n\u001b[1;32m---> <a href='vscode-notebook-cell:/c%3A/Users/Towa/Documents/InnovacionVirtual/IntroPython/Modulo%209/Modulo9Funciones.ipynb#ch0000013?line=13'>14</a>\u001b[0m arrival_time()\n",
      "\u001b[1;31mTypeError\u001b[0m: arrival_time() missing 1 required positional argument: 'destination'"
     ]
    }
   ],
   "source": [
    "##                      ##Practice 12.\n",
    "# Combinacion de argumentos y argumentos de palabra clave.\n",
    "\n",
    "from datetime import timedelta, datetime\n",
    "\n",
    "# Dado que hemos agregado un argumento necesario, \n",
    "# ya no es posible llamar a la función sin ningún argumento:\n",
    "\n",
    "def arrival_time(destination, hours=51):\n",
    "    now = datetime.now()\n",
    "    arrival = now + timedelta(hours=hours)\n",
    "    return arrival.strftime(f'{destination} Arrival: %A %H:%M')\n",
    "\n",
    "arrival_time()"
   ]
  },
  {
   "cell_type": "code",
   "execution_count": 20,
   "metadata": {},
   "outputs": [
    {
     "data": {
      "text/plain": [
       "'Orbit Arrival: Thursday 04:52'"
      ]
     },
     "execution_count": 20,
     "metadata": {},
     "output_type": "execute_result"
    }
   ],
   "source": [
    "##                      ##Practice 13.\n",
    "# LLamar a la funcion pasandole 2 argumentos.\n",
    "arrival_time('Orbit', hours=0.13)"
   ]
  },
  {
   "cell_type": "code",
   "execution_count": 21,
   "metadata": {},
   "outputs": [
    {
     "name": "stdout",
     "output_type": "stream",
     "text": [
      "()\n",
      "('one', 'two')\n",
      "(None,)\n"
     ]
    }
   ],
   "source": [
    "##                      ##Practice 14.\n",
    "# Uso de argumentos de variable en Python.\n",
    "\n",
    "def variable_length(*args):\n",
    "    print(args)\n",
    "\n",
    "variable_length()\n",
    "variable_length('one', 'two')\n",
    "variable_length(None)"
   ]
  },
  {
   "cell_type": "code",
   "execution_count": 23,
   "metadata": {},
   "outputs": [
    {
     "data": {
      "text/plain": [
       "'Total time to launch is 36 minutes'"
      ]
     },
     "execution_count": 23,
     "metadata": {},
     "output_type": "execute_result"
    }
   ],
   "source": [
    "##                      ##Practice 14.\n",
    "# Uso de argumentos de variable en Python.\n",
    "\n",
    "def sequence_time(*args):\n",
    "    total_minutes = sum(args)\n",
    "    if total_minutes < 60:\n",
    "        return f'Total time to launch is {total_minutes} minutes'\n",
    "    else:\n",
    "        return f'Total time to launch is {total_minutes/60} hours'\n",
    "\n",
    "sequence_time(4, 14, 18)"
   ]
  },
  {
   "cell_type": "code",
   "execution_count": 24,
   "metadata": {},
   "outputs": [
    {
     "data": {
      "text/plain": [
       "'Total time to launch is 1.1 hours'"
      ]
     },
     "execution_count": 24,
     "metadata": {},
     "output_type": "execute_result"
    }
   ],
   "source": [
    "##                      ##Practice 15.\n",
    "# Uso de argumentos de variable en Python.\n",
    "sequence_time(4, 14, 48)"
   ]
  },
  {
   "cell_type": "code",
   "execution_count": 25,
   "metadata": {},
   "outputs": [
    {
     "name": "stdout",
     "output_type": "stream",
     "text": [
      "{'tanks': 1, 'day': 'Wednesday', 'pilots': 3}\n"
     ]
    }
   ],
   "source": [
    "##                      ##Practice 16.\n",
    "# Argumentos de palabra clave variable.\n",
    "\n",
    "def variable_length(**kwargs):\n",
    "    print(kwargs)\n",
    "\n",
    "variable_length(tanks=1, day='Wednesday', pilots=3)"
   ]
  },
  {
   "cell_type": "code",
   "execution_count": 26,
   "metadata": {},
   "outputs": [
    {
     "name": "stdout",
     "output_type": "stream",
     "text": [
      "3 astronauts assigned for this mission:\n",
      "captain: Neil Armstrong\n",
      "pilot: Buzz Aldrin\n",
      "command_pilot: Michael Collins\n"
     ]
    }
   ],
   "source": [
    "##                      ##Practice 17.\n",
    "# Ejercicio de Argumentos de palabra clave variable.\n",
    "\n",
    "def crew_members(**kwargs):\n",
    "    print(f'{len(kwargs)} astronauts assigned for this mission:')\n",
    "    for title, name in kwargs.items():\n",
    "        print(f'{title}: {name}')\n",
    "\n",
    "crew_members(captain='Neil Armstrong', pilot='Buzz Aldrin', command_pilot='Michael Collins')"
   ]
  },
  {
   "cell_type": "code",
   "execution_count": 27,
   "metadata": {},
   "outputs": [
    {
     "ename": "SyntaxError",
     "evalue": "keyword argument repeated: pilot (3380855880.py, line 4)",
     "output_type": "error",
     "traceback": [
      "\u001b[1;36m  Input \u001b[1;32mIn [27]\u001b[1;36m\u001b[0m\n\u001b[1;33m    crew_members(captain='Neil Armstrong', pilot='Buzz Aldrin', pilot='Michael Collins')\u001b[0m\n\u001b[1;37m                                                                ^\u001b[0m\n\u001b[1;31mSyntaxError\u001b[0m\u001b[1;31m:\u001b[0m keyword argument repeated: pilot\n"
     ]
    }
   ],
   "source": [
    "##                      ##Practice 18.\n",
    "# Ejercicio de Argumentos de palabra clave variable.\n",
    "\n",
    "crew_members(captain='Neil Armstrong', pilot='Buzz Aldrin', pilot='Michael Collins')"
   ]
  }
 ],
 "metadata": {
  "interpreter": {
   "hash": "19cfe265bf0ba2e16bf0980961a78d9ea3972eb3d3945781725bb9fe469e248a"
  },
  "kernelspec": {
   "display_name": "Python 3.9.10 64-bit",
   "language": "python",
   "name": "python3"
  },
  "language_info": {
   "codemirror_mode": {
    "name": "ipython",
    "version": 3
   },
   "file_extension": ".py",
   "mimetype": "text/x-python",
   "name": "python",
   "nbconvert_exporter": "python",
   "pygments_lexer": "ipython3",
   "version": "3.9.10"
  },
  "orig_nbformat": 4
 },
 "nbformat": 4,
 "nbformat_minor": 2
}
