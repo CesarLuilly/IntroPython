{
 "cells": [
  {
   "cell_type": "markdown",
   "metadata": {},
   "source": [
    "## Course Python By InnovacionVirtual LaunchX \n",
    "### Module 2: Katas\n",
    "\n",
    "**Extra info about python**\n",
    "- Version Python: Python 3.10.2\n",
    "- Python Kernel: 3.9.10 64-bit\n",
    "- Execute: Position Cursor at code VS, after it is pressed Ctrl + Enter\n",
    "\n",
    "**Author: Cesar Luilly Garcia Aguazul**\n",
    "\n",
    "**Co-Author : Fernanda Ochoa**\n",
    "\n",
    "**Date: 11:02/2022**\n",
    "\n",
    "Description: Create enviroment virtual.\n"
   ]
  },
  {
   "cell_type": "markdown",
   "metadata": {},
   "source": [
    "**Exercise: Create package.**\n",
    "\n",
    "***Se ejecutaron los siguientes comandos***\n",
    "\n",
    "- python -m venv env\n",
    "- .\\env\\Scripts\\activate\n",
    "- pip freeze\n",
    "- pip install python-dateutil\n",
    "- python -m pip install --upgrade pip\n",
    "- pip install python-dateutil\n",
    "- pip freeze\n",
    "- deactivate\n"
   ]
  }
 ],
 "metadata": {
  "language_info": {
   "name": "python"
  },
  "orig_nbformat": 4
 },
 "nbformat": 4,
 "nbformat_minor": 2
}
