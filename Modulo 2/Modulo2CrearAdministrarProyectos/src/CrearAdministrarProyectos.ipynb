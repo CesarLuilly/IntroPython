{
 "cells": [
  {
   "cell_type": "markdown",
   "metadata": {},
   "source": [
    "## Course Python By InnovacionVirtual LaunchX \n",
    "### Module 2: Create and manage projects.\n",
    "\n",
    "**Extra info about python**\n",
    "- Version Python: Python 3.10.2\n",
    "- Python Kernel: 3.9.10 64-bit\n",
    "- Execute: Position Cursor at code VS, after it is pressed Ctrl + Enter\n",
    "\n",
    "**Author: Cesar Luilly Garcia Aguazul**\n",
    "\n",
    "**Co-Author : Fernanda Ochoa**\n",
    "\n",
    "**Date: 11:02/2022**\n",
    "\n",
    "Description: Create enviroment virtual.\n",
    "\n",
    "**Comando para saber si podemos ejecutar Scripts en Window**\n",
    "Get-ExecutionPolicy\n",
    "\n",
    "**Comando para dar permisos para poder ejecutar scripts en Window**\n",
    "Set-ExecutionPolicy Unrestricted\n",
    "\n",
    "\n",
    "Instalar un paquete mediante pip"
   ]
  },
  {
   "cell_type": "markdown",
   "metadata": {},
   "source": [
    "**Crear un entorno virtual**\n",
    "\n",
    "- python -m venv env\n",
    "\n",
    "**Activar el entorno virtual**\n",
    "\n",
    "- env\\Scripts\\activate  \n",
    "\n",
    "\n",
    "nos aparecera (env) al inicio de la ruta\n",
    "\n",
    "\n",
    "**Desactivar el entorno virtual**\n",
    "\n",
    "\n",
    "- deactivate"
   ]
  },
  {
   "cell_type": "markdown",
   "metadata": {},
   "source": [
    " Instalacion desde consola \n",
    "\n",
    "\n",
    " - pip install python-dateutil\n",
    "\n",
    "\n",
    " Instalacion desde Notebook\n",
    " \n",
    " \n",
    " - !pip install python-dateutil\n",
    "\n",
    "\n",
    " Ver los paquetes instalados\n",
    "\n",
    "  - pip freeze\n",
    "  "
   ]
  },
  {
   "cell_type": "code",
   "execution_count": 2,
   "metadata": {},
   "outputs": [
    {
     "name": "stdout",
     "output_type": "stream",
     "text": [
      "2022-02-11 19:28:53.379262\n",
      "2022-03-18 10:28:53.379262\n"
     ]
    }
   ],
   "source": [
    "from datetime import *\n",
    "from dateutil.relativedelta import *\n",
    "now = datetime.now()\n",
    "print(now)\n",
    "\n",
    "now = now + relativedelta(months=1, weeks=1, hour=10)\n",
    "\n",
    "print(now)"
   ]
  }
 ],
 "metadata": {
  "interpreter": {
   "hash": "19cfe265bf0ba2e16bf0980961a78d9ea3972eb3d3945781725bb9fe469e248a"
  },
  "kernelspec": {
   "display_name": "Python 3.9.10 64-bit",
   "language": "python",
   "name": "python3"
  },
  "language_info": {
   "codemirror_mode": {
    "name": "ipython",
    "version": 3
   },
   "file_extension": ".py",
   "mimetype": "text/x-python",
   "name": "python",
   "nbconvert_exporter": "python",
   "pygments_lexer": "ipython3",
   "version": "3.9.10"
  },
  "orig_nbformat": 4
 },
 "nbformat": 4,
 "nbformat_minor": 2
}
