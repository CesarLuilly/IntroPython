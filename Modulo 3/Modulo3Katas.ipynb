{
 "cells": [
  {
   "cell_type": "markdown",
   "metadata": {},
   "source": [
    "## Course Python By InnovacionVirtual LaunchX \n",
    "### Module 3: Katas\n",
    "\n",
    "**Extra info about python**\n",
    "- Version Python: Python 3.10.2\n",
    "- Python Kernel: 3.9.10 64-bit\n",
    "- Execute: Position Cursor at code VS, after it is pressed Ctrl + Enter\n",
    "\n",
    "**Author: Cesar Luilly Garcia Aguazul**\n",
    "\n",
    "**Co-Author : Fernanda Ochoa**\n",
    "\n",
    "**Date: 16/02/2022**"
   ]
  },
  {
   "cell_type": "code",
   "execution_count": 3,
   "metadata": {},
   "outputs": [
    {
     "name": "stdout",
     "output_type": "stream",
     "text": [
      "¡Alerta humanidad, un asteriode se esta acercando!  \n"
     ]
    }
   ],
   "source": [
    "##                      ##Practice 1.\n",
    "##                      ##Description: \n",
    "# Añadir el código necesario para crear una variable que guarde la velocidad del asteroide.\n",
    "# Escribe una expresión de prueba para calcular si necesita una advertencia.\n",
    "# Agregue las instrucciones que se ejecutarán si la expresión de prueba es true o false.\n",
    "\n",
    "# Escribirás una lógica condicional que imprima una advertencia si un asteroide se acerca a\n",
    "# la Tierra demasiado rápido. La velocidad del asteroide varía dependiendo de lo cerca que \n",
    "# esté del sol, y cualquier velocidad superior a 25 kilómetros por segundo (km/s) \n",
    "# merece una advertencia.\n",
    "\n",
    "speedAst = 49\n",
    "if speedAst > 25:\n",
    "    print('¡Alerta humanidad, un asteroide se acerca, y viaja a una velocidad de 49 km/s.!  ')\n",
    "else:\n",
    "    print('No hay peligro de impacto del asteroide.')\n"
   ]
  },
  {
   "cell_type": "code",
   "execution_count": 4,
   "metadata": {},
   "outputs": [
    {
     "name": "stdout",
     "output_type": "stream",
     "text": [
      "¡Nada que ver aquí!\n"
     ]
    }
   ],
   "source": [
    "##                      ##Practice 2.\n",
    "##                      ##Description: \n",
    "# Agrega el código para crear una variable para un asteroide que viaja a 19 km/s\n",
    "# Escribe varias expresiones de prueba para determinar si puedes ver el rayo de luz desde la tierra\n",
    "# Agrega las instrucciones que se ejecutarán si las expresiones de prueba son True o False\n",
    "\n",
    "# Si un asteroide entra en la atmósfera de la Tierra a una velocidad mayor o igual a 20 km/s, \n",
    "# a veces produce un rayo de luz que se puede ver desde la Tierra. Escribe la lógica condicional \n",
    "# que usa declaraciones if, else, y elif para alertar a las personas de todo el mundo que deben \n",
    "# buscar un asteroide en el cielo. ¡Hay uno que se dirige a la tierra ahora a una velocidad de \n",
    "# 19 km/s!\n",
    "\n",
    "speedAst = 19\n",
    "if speedAst >= 20:\n",
    "    print('Alerta humanidad! ¡Hay destello de luz mágica en el cielo!')\n",
    "elif speedAst == 20:\n",
    "    print('Alerta humanidad! ¡Hay destello de luz mágica en el cielo!')\n",
    "else:\n",
    "    print('¡Nada que ver aquí!')"
   ]
  },
  {
   "cell_type": "code",
   "execution_count": 5,
   "metadata": {},
   "outputs": [
    {
     "name": "stdout",
     "output_type": "stream",
     "text": [
      "Alerta humanidad! ¡Hay destello de luz mágica en el cielo!\n"
     ]
    }
   ],
   "source": [
    "##                      ##Practice 2.\n",
    "##                      ##Description: \n",
    "# En este ejercicio, aprenderás información más matizada sobre cuándo los asteroides representan un \n",
    "# peligro para la Tierra, y utilizarás esa información para mejorar nuestro sistema de advertencia.\n",
    "#  Aquí está la nueva información que necesitas saber:\n",
    "\n",
    "# *Los asteroides de menos de 25 metros en su dimensión más grande probablemente se quemarán a \n",
    "#   medida que entren en la atmósfera de la Tierra.\n",
    "\n",
    "# Si una pieza de un asteroide que es más grande que 25 metros pero más pequeña que 1000 metros \n",
    "#   golpeara la Tierra, causaría mucho daño.\n",
    "# También discutimos en el ejercicio anterior que:\n",
    "\n",
    "# La velocidad del asteroide varía en función de lo cerca que esté del sol, y cualquier velocidad \n",
    "#       superior a 25 kilómetros por segundo (km/s) merece una advertencia.\n",
    "# Si un asteroide entra en la atmósfera de la Tierra a una velocidad mayor o igual a 20 km/s, \n",
    "#       a veces produce un rayo de luz que se puede ver desde la Tierra.\n",
    "# Usando toda esta información, escribe un programa que emita la advertencia o información correcta a \n",
    "#       la gente de la Tierra, según la velocidad y el tamaño de un asteroide. \n",
    "\n",
    "#  Utiliza instrucciones if, else, y elif, así como los operadores and y or.\n",
    "\n",
    "speedAst = 25\n",
    "sizeAst = 40\n",
    "\n",
    "if speedAst > 25 and sizeAst > 25:\n",
    "    print('Alerta! Se acerca un asteroide con dimensiones catastroficas.')\n",
    "elif speedAst >= 20:\n",
    "    print('Alerta humanidad! ¡Hay destello de luz mágica en el cielo!')\n",
    "elif sizeAst < 25:\n",
    "    print('Nada que ver aqui.')\n",
    "else:\n",
    "    print('Nada que ver aqui.')\n"
   ]
  }
 ],
 "metadata": {
  "interpreter": {
   "hash": "19cfe265bf0ba2e16bf0980961a78d9ea3972eb3d3945781725bb9fe469e248a"
  },
  "kernelspec": {
   "display_name": "Python 3.9.10 64-bit",
   "language": "python",
   "name": "python3"
  },
  "language_info": {
   "codemirror_mode": {
    "name": "ipython",
    "version": 3
   },
   "file_extension": ".py",
   "mimetype": "text/x-python",
   "name": "python",
   "nbconvert_exporter": "python",
   "pygments_lexer": "ipython3",
   "version": "3.9.10"
  },
  "orig_nbformat": 4
 },
 "nbformat": 4,
 "nbformat_minor": 2
}
