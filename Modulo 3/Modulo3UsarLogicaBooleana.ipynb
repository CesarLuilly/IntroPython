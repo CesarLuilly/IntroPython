{
 "cells": [
  {
   "cell_type": "markdown",
   "metadata": {},
   "source": [
    "## Course Python By InnovacionVirtual LaunchX \n",
    "### Module 3: Use logic boolean.\n",
    "\n",
    "**Extra info about python**\n",
    "- Version Python: Python 3.10.2\n",
    "- Python Kernel: 3.9.10 64-bit\n",
    "- Execute: Position Cursor at code VS, after it is pressed Ctrl + Enter\n",
    "\n",
    "**Author: Cesar Luilly Garcia Aguazul**\n",
    "\n",
    "**Co-Author : Fernanda Ochoa**\n",
    "\n",
    "**Date: 11:02/2022**\n"
   ]
  },
  {
   "cell_type": "code",
   "execution_count": 5,
   "metadata": {},
   "outputs": [
    {
     "name": "stdout",
     "output_type": "stream",
     "text": [
      "20\n",
      "30\n"
     ]
    }
   ],
   "source": [
    "##                      ##Practice 1.\n",
    "a = 10\n",
    "b = 20\n",
    "c = 30\n",
    "\n",
    "##                      ##In Python is very important consider the\n",
    "##                      ##    indentation. \n",
    "if a > b:\n",
    "    print(a)\n",
    "elif a == b:\n",
    "    print(b)\n",
    "print(c)"
   ]
  }
 ],
 "metadata": {
  "interpreter": {
   "hash": "19cfe265bf0ba2e16bf0980961a78d9ea3972eb3d3945781725bb9fe469e248a"
  },
  "kernelspec": {
   "display_name": "Python 3.9.10 64-bit",
   "language": "python",
   "name": "python3"
  },
  "language_info": {
   "codemirror_mode": {
    "name": "ipython",
    "version": 3
   },
   "file_extension": ".py",
   "mimetype": "text/x-python",
   "name": "python",
   "nbconvert_exporter": "python",
   "pygments_lexer": "ipython3",
   "version": "3.9.10"
  },
  "orig_nbformat": 4
 },
 "nbformat": 4,
 "nbformat_minor": 2
}
