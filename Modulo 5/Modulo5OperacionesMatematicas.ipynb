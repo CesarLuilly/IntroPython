{
 "cells": [
  {
   "cell_type": "markdown",
   "metadata": {},
   "source": [
    "## Course Python By InnovacionVirtual LaunchX \n",
    "### Module 5: Usar Operaciones Matematicas.\n",
    "\n",
    "**Extra info about python**\n",
    "- Version Python: Python 3.10.2\n",
    "- Python Kernel: 3.9.10 64-bit\n",
    "- Execute: Position Cursor at code VS, after it is pressed Ctrl + Enter\n",
    "\n",
    "**Author: Cesar Luilly Garcia Aguazul**\n",
    "\n",
    "**Co-Author : Fernanda Ochoa**\n",
    "\n",
    "**Date: 16:02/2022**"
   ]
  },
  {
   "cell_type": "code",
   "execution_count": 1,
   "metadata": {},
   "outputs": [
    {
     "name": "stdout",
     "output_type": "stream",
     "text": [
      "42\n",
      "18\n",
      "360\n",
      "2.5\n"
     ]
    }
   ],
   "source": [
    "##                      ##Practice 1.\n",
    "# Adicion.\n",
    "answer = 30 + 12\n",
    "print(answer)\n",
    "\n",
    "# Sustracion\n",
    "difference = 30 - 12\n",
    "print(difference)\n",
    "\n",
    "# Multiplicacion\n",
    "product = 30 * 12\n",
    "print(product)\n",
    "\n",
    "# Division\n",
    "quotient = 30 / 12\n",
    "print(quotient)"
   ]
  },
  {
   "cell_type": "code",
   "execution_count": null,
   "metadata": {},
   "outputs": [],
   "source": [
    "##                      ##Practice 2.\n",
    "# Trabajar con la división\n",
    "seconds = 1042"
   ]
  },
  {
   "cell_type": "markdown",
   "metadata": {},
   "source": [
    "El primer paso es determinar el número de minutos que hay en 1042 segundos. Con 60 segundos en un minuto, puedes dividir y obtener una respuesta de 17.3666667 . El número que te interesa es simplemente 17. Siempre que desees redondear hacia abajo, utilizando lo que se conoce como división de piso. Para realizar la división de piso en Python, utilizamos //."
   ]
  },
  {
   "cell_type": "code",
   "execution_count": 2,
   "metadata": {},
   "outputs": [
    {
     "name": "stdout",
     "output_type": "stream",
     "text": [
      "17\n"
     ]
    }
   ],
   "source": [
    "seconds = 1042\n",
    "display_minutes = 1042 // 60\n",
    "print(display_minutes)"
   ]
  },
  {
   "cell_type": "markdown",
   "metadata": {},
   "source": [
    "El siguiente paso es determinar el número de segundos. Este es el resto de si se divide por 1042. Puedes encontrar el resto utilizando el operador módulo, que es % en Python. El resto de 1042 / 60 es 22, que es lo que proporcionará el operador del módulo."
   ]
  },
  {
   "cell_type": "code",
   "execution_count": 3,
   "metadata": {},
   "outputs": [
    {
     "name": "stdout",
     "output_type": "stream",
     "text": [
      "17\n",
      "22\n"
     ]
    }
   ],
   "source": [
    "seconds = 1042\n",
    "display_minutes = 1042 // 60\n",
    "display_seconds = 1042 % 60\n",
    "\n",
    "print(display_minutes)\n",
    "print(display_seconds)"
   ]
  },
  {
   "cell_type": "code",
   "execution_count": 4,
   "metadata": {},
   "outputs": [],
   "source": [
    "##                      ##Practice 3.\n",
    "# Orden de funcionamiento (Jerarquía de Operaciones)\n",
    "result_1 = 1032 + 26 * 2\n",
    "result_2 = 1032 + (26 * 2)"
   ]
  },
  {
   "cell_type": "code",
   "execution_count": 5,
   "metadata": {},
   "outputs": [
    {
     "name": "stdout",
     "output_type": "stream",
     "text": [
      "215\n",
      "215.3\n"
     ]
    }
   ],
   "source": [
    "##                      ##Practice 4.\n",
    "# Convertir cadenas en números\n",
    "demo_int = int('215')\n",
    "print(demo_int)\n",
    "\n",
    "demo_float = float('215.3')\n",
    "print(demo_float)"
   ]
  },
  {
   "cell_type": "code",
   "execution_count": 6,
   "metadata": {},
   "outputs": [
    {
     "name": "stdout",
     "output_type": "stream",
     "text": [
      "23\n",
      "23\n"
     ]
    }
   ],
   "source": [
    "##                      ##Practice 5.\n",
    "# Valores absolutos\n",
    "\n",
    "a = 39 - 16\n",
    "b = 16 - 39\n",
    "\n",
    "print(abs(39 - 16))\n",
    "print(abs(16 - 39))"
   ]
  },
  {
   "cell_type": "code",
   "execution_count": 7,
   "metadata": {},
   "outputs": [
    {
     "name": "stdout",
     "output_type": "stream",
     "text": [
      "14\n"
     ]
    }
   ],
   "source": [
    "##                      ##Practice 6.\n",
    "# Redondeo\n",
    "print(round(14.5))"
   ]
  },
  {
   "cell_type": "code",
   "execution_count": 8,
   "metadata": {},
   "outputs": [
    {
     "name": "stdout",
     "output_type": "stream",
     "text": [
      "13\n",
      "12\n"
     ]
    }
   ],
   "source": [
    "##                      ##Practice 7.\n",
    "# Biblioteca Math\n",
    "\n",
    "from math import ceil, floor\n",
    "\n",
    "round_up = ceil(12.5)\n",
    "print(round_up)\n",
    "\n",
    "round_down = floor(12.5)\n",
    "print(round_down)"
   ]
  }
 ],
 "metadata": {
  "interpreter": {
   "hash": "19cfe265bf0ba2e16bf0980961a78d9ea3972eb3d3945781725bb9fe469e248a"
  },
  "kernelspec": {
   "display_name": "Python 3.9.10 64-bit",
   "language": "python",
   "name": "python3"
  },
  "language_info": {
   "codemirror_mode": {
    "name": "ipython",
    "version": 3
   },
   "file_extension": ".py",
   "mimetype": "text/x-python",
   "name": "python",
   "nbconvert_exporter": "python",
   "pygments_lexer": "ipython3",
   "version": "3.9.10"
  },
  "orig_nbformat": 4
 },
 "nbformat": 4,
 "nbformat_minor": 2
}
