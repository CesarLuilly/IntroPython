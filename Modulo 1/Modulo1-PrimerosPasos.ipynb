{
 "cells": [
  {
   "cell_type": "markdown",
   "metadata": {},
   "source": [
    "## Course Python By InnovacionVirtual LaunchX \n",
    "### Module 1: First Step on Python\n",
    "\n",
    "**Extra info about python**\n",
    "- Version Python: Python 3.10.2\n",
    "- Python Kernel: 3.9.10 64-bit\n",
    "- Execute: Position Cursor at code VS, after it is pressed Ctrl + Enter\n",
    "\n",
    "**Author: Cesar Luilly Garcia Aguazul** \n",
    "\n",
    "**Co-Author : Fernanda Ochoa**\n",
    "\n",
    "**Date: 11:02/2022**\n",
    "\n"
   ]
  },
  {
   "cell_type": "code",
   "execution_count": 24,
   "metadata": {},
   "outputs": [
    {
     "name": "stdout",
     "output_type": "stream",
     "text": [
      "Hola Mundo\n"
     ]
    }
   ],
   "source": [
    "print(\"Hola Mundo\")"
   ]
  },
  {
   "cell_type": "code",
   "execution_count": 25,
   "metadata": {},
   "outputs": [
    {
     "name": "stdout",
     "output_type": "stream",
     "text": [
      "Result of operation is : 66\n",
      "Result of operation is : 66\n"
     ]
    }
   ],
   "source": [
    "##                      ##Variasbles\n",
    "sum = 10 + 12\n",
    "product = sum * 3\n",
    "print(\"Result of operation is : \" + repr(product))\n",
    "##                      ##Or Using this format.\n",
    "print(\"Result of operation is : \" + str(product))"
   ]
  },
  {
   "cell_type": "code",
   "execution_count": 26,
   "metadata": {},
   "outputs": [
    {
     "data": {
      "text/plain": [
       "int"
      ]
     },
     "execution_count": 26,
     "metadata": {},
     "output_type": "execute_result"
    }
   ],
   "source": [
    "##                      ##Data type.\n",
    "varInt = 1\n",
    "varFloat = 2.2\n",
    "varComplex = 3j\n",
    "varBoolean = True\n",
    "\n",
    "##                      ##Verify data type.\n",
    "type(varInt)"
   ]
  },
  {
   "cell_type": "code",
   "execution_count": 27,
   "metadata": {},
   "outputs": [
    {
     "name": "stdout",
     "output_type": "stream",
     "text": [
      "2022-02-11\n",
      "Date is 2022-02-11\n"
     ]
    }
   ],
   "source": [
    "##                      ##Date\n",
    "from datetime import date\n",
    "print(date.today())\n",
    "print(\"Date is \" + str(date.today()))"
   ]
  },
  {
   "cell_type": "code",
   "execution_count": 28,
   "metadata": {},
   "outputs": [
    {
     "name": "stdout",
     "output_type": "stream",
     "text": [
      "-----------------\n",
      "Welcome to program LaunchX Innovacion Virtual.\n",
      "-----------------\n",
      "Congratulations : Cesar\n"
     ]
    }
   ],
   "source": [
    "##                      ##Collect information from the comand line.\n",
    "print(\"-----------------\")\n",
    "print(\"Welcome to program LaunchX Innovacion Virtual.\")\n",
    "print(\"-----------------\")\n",
    "##                      ##Entry user data.\n",
    "name = input(\"Entry your name\")\n",
    "print(\"Congratulations : \" + name)"
   ]
  },
  {
   "cell_type": "code",
   "execution_count": 29,
   "metadata": {},
   "outputs": [
    {
     "name": "stdout",
     "output_type": "stream",
     "text": [
      "-----------------\n",
      "Calculator\n",
      "-----------------\n",
      "12\n",
      "3\n"
     ]
    }
   ],
   "source": [
    "##                      ##Working with numbers.\n",
    "print(\"-----------------\")\n",
    "print(\"Calculator\")\n",
    "print(\"-----------------\")\n",
    "firstNumber = input(\"First number: \")\n",
    "secondNumber = input(\"Second number: \")\n",
    "print(firstNumber + secondNumber)\n",
    "print(int(firstNumber) + int(secondNumber))"
   ]
  }
 ],
 "metadata": {
  "language_info": {
   "name": "python"
  },
  "orig_nbformat": 4
 },
 "nbformat": 4,
 "nbformat_minor": 2
}
